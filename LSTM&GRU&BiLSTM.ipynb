{
 "cells": [
  {
   "cell_type": "markdown",
   "metadata": {
    "toc": true
   },
   "source": [
    "<h1>Table of Contents<span class=\"tocSkip\"></span></h1>\n",
    "<div class=\"toc\"><ul class=\"toc-item\"><li><ul class=\"toc-item\"><li><span><a href=\"#Импорт-библиотек\" data-toc-modified-id=\"Импорт-библиотек-0.1\"><span class=\"toc-item-num\">0.1&nbsp;&nbsp;</span>Импорт библиотек</a></span></li></ul></li><li><span><a href=\"#Read-and-explore-data\" data-toc-modified-id=\"Read-and-explore-data-1\"><span class=\"toc-item-num\">1&nbsp;&nbsp;</span>Read and explore data</a></span><ul class=\"toc-item\"><li><span><a href=\"#Split-the-dataset-into-train-and-test-data\" data-toc-modified-id=\"Split-the-dataset-into-train-and-test-data-1.1\"><span class=\"toc-item-num\">1.1&nbsp;&nbsp;</span>Split the dataset into train and test data</a></span></li><li><span><a href=\"#Data-transformation\" data-toc-modified-id=\"Data-transformation-1.2\"><span class=\"toc-item-num\">1.2&nbsp;&nbsp;</span>Data transformation</a></span></li><li><span><a href=\"#Create-a-3D-Input-Dataset\" data-toc-modified-id=\"Create-a-3D-Input-Dataset-1.3\"><span class=\"toc-item-num\">1.3&nbsp;&nbsp;</span>Create a 3D Input Dataset</a></span></li></ul></li><li><span><a href=\"#Create-BiLSTM,-LSTM-and-GRU-model\" data-toc-modified-id=\"Create-BiLSTM,-LSTM-and-GRU-model-2\"><span class=\"toc-item-num\">2&nbsp;&nbsp;</span>Create BiLSTM, LSTM and GRU model</a></span><ul class=\"toc-item\"><li><span><a href=\"#Fit-the-models\" data-toc-modified-id=\"Fit-the-models-2.1\"><span class=\"toc-item-num\">2.1&nbsp;&nbsp;</span>Fit the models</a></span><ul class=\"toc-item\"><li><span><a href=\"#Plot-train-loss-vs-validation-loss\" data-toc-modified-id=\"Plot-train-loss-vs-validation-loss-2.1.1\"><span class=\"toc-item-num\">2.1.1&nbsp;&nbsp;</span>Plot train loss vs validation loss</a></span></li></ul></li><li><span><a href=\"#Inverse-target-variable-for-train-and-test-data\" data-toc-modified-id=\"Inverse-target-variable-for-train-and-test-data-2.2\"><span class=\"toc-item-num\">2.2&nbsp;&nbsp;</span>Inverse target variable for train and test data</a></span></li></ul></li><li><span><a href=\"#Make-prediction-using-BiLSTM,-LSTM-and-GRU\" data-toc-modified-id=\"Make-prediction-using-BiLSTM,-LSTM-and-GRU-3\"><span class=\"toc-item-num\">3&nbsp;&nbsp;</span>Make prediction using BiLSTM, LSTM and GRU</a></span><ul class=\"toc-item\"><li><span><a href=\"#Plot-true-future-vs-prediction\" data-toc-modified-id=\"Plot-true-future-vs-prediction-3.1\"><span class=\"toc-item-num\">3.1&nbsp;&nbsp;</span>Plot true future vs prediction</a></span></li><li><span><a href=\"#Calculate-RMSE-and-MAE\" data-toc-modified-id=\"Calculate-RMSE-and-MAE-3.2\"><span class=\"toc-item-num\">3.2&nbsp;&nbsp;</span>Calculate RMSE and MAE</a></span></li></ul></li></ul></div>"
   ]
  },
  {
   "cell_type": "markdown",
   "metadata": {},
   "source": [
    "## Импорт библиотек"
   ]
  },
  {
   "cell_type": "code",
   "execution_count": 1,
   "metadata": {
    "cellId": "ryip3ei3hx31ld91ajq8r",
    "colab": {
     "base_uri": "https://localhost:8080/",
     "height": 72
    },
    "colab_type": "code",
    "id": "LtwIoQPHOgVP",
    "outputId": "3c8ae64e-9e3b-4981-bc0f-0aa9bab8aa2e"
   },
   "outputs": [
    {
     "data": {
      "text/html": [
       "        <script type=\"text/javascript\">\n",
       "        window.PlotlyConfig = {MathJaxConfig: 'local'};\n",
       "        if (window.MathJax) {MathJax.Hub.Config({SVG: {font: \"STIX-Web\"}});}\n",
       "        if (typeof require !== 'undefined') {\n",
       "        require.undef(\"plotly\");\n",
       "        requirejs.config({\n",
       "            paths: {\n",
       "                'plotly': ['https://cdn.plot.ly/plotly-latest.min']\n",
       "            }\n",
       "        });\n",
       "        require(['plotly'], function(Plotly) {\n",
       "            window._Plotly = Plotly;\n",
       "        });\n",
       "        }\n",
       "        </script>\n",
       "        "
      ]
     },
     "metadata": {},
     "output_type": "display_data"
    },
    {
     "data": {
      "text/html": [
       "        <script type=\"text/javascript\">\n",
       "        window.PlotlyConfig = {MathJaxConfig: 'local'};\n",
       "        if (window.MathJax) {MathJax.Hub.Config({SVG: {font: \"STIX-Web\"}});}\n",
       "        if (typeof require !== 'undefined') {\n",
       "        require.undef(\"plotly\");\n",
       "        requirejs.config({\n",
       "            paths: {\n",
       "                'plotly': ['https://cdn.plot.ly/plotly-latest.min']\n",
       "            }\n",
       "        });\n",
       "        require(['plotly'], function(Plotly) {\n",
       "            window._Plotly = Plotly;\n",
       "        });\n",
       "        }\n",
       "        </script>\n",
       "        "
      ]
     },
     "metadata": {},
     "output_type": "display_data"
    },
    {
     "data": {
      "text/html": [
       "        <script type=\"text/javascript\">\n",
       "        window.PlotlyConfig = {MathJaxConfig: 'local'};\n",
       "        if (window.MathJax) {MathJax.Hub.Config({SVG: {font: \"STIX-Web\"}});}\n",
       "        if (typeof require !== 'undefined') {\n",
       "        require.undef(\"plotly\");\n",
       "        requirejs.config({\n",
       "            paths: {\n",
       "                'plotly': ['https://cdn.plot.ly/plotly-latest.min']\n",
       "            }\n",
       "        });\n",
       "        require(['plotly'], function(Plotly) {\n",
       "            window._Plotly = Plotly;\n",
       "        });\n",
       "        }\n",
       "        </script>\n",
       "        "
      ]
     },
     "metadata": {},
     "output_type": "display_data"
    }
   ],
   "source": [
    "import scipy\n",
    "import numpy\n",
    "import tensorflow as tf\n",
    "from tensorflow import keras\n",
    "from tensorflow.keras import Sequential, layers, callbacks\n",
    "from tensorflow.keras.layers import Dense, LSTM, Dropout, GRU, Bidirectional\n",
    "import pandas as pd\n",
    "import numpy as np\n",
    "from math import sqrt\n",
    "import seaborn as sns\n",
    "\n",
    "from sklearn.preprocessing import MinMaxScaler\n",
    "from sklearn.model_selection import train_test_split\n",
    "\n",
    "from matplotlib import pyplot as plt\n",
    "from IPython.core.pylabtools import figsize\n",
    "\n",
    "from pandas.plotting import register_matplotlib_converters\n",
    "register_matplotlib_converters()\n",
    "\n",
    "from sklearn.metrics import mean_squared_error, mean_absolute_error, r2_score\n",
    "\n",
    "from plotly.offline import iplot\n",
    "\n",
    "# Использование cufflinks в офлайн-режиме\n",
    "import cufflinks\n",
    "cufflinks.go_offline()\n",
    "\n",
    "# Настройка глобальной темы cufflinks\n",
    "cufflinks.set_config_file(world_readable=True, theme='pearl', offline=True)"
   ]
  },
  {
   "cell_type": "code",
   "execution_count": 2,
   "metadata": {
    "cellId": "x6gqtssr0imwg4e2vyze",
    "colab": {},
    "colab_type": "code",
    "id": "sjdOpewnOoG6"
   },
   "outputs": [],
   "source": [
    "# Set random seed for reproducibility\n",
    "numpy.random.seed(1234)\n",
    "tf.random.set_seed(8)"
   ]
  },
  {
   "cell_type": "markdown",
   "metadata": {
    "cellId": "hf5m665abycst9m7x0xah",
    "colab_type": "text",
    "id": "3NgpKa2IOgVT"
   },
   "source": [
    "# Read and explore data \n",
    "While I import the data from a CSV file, I make sure the **date** column has the correct *DateTime* format by **parse_dates = ['date']**.\n",
    "\n",
    "When I work with date and time, it becomes much easier if I set **date** column as the dataframe index."
   ]
  },
  {
   "cell_type": "code",
   "execution_count": 3,
   "metadata": {
    "cellId": "9waf6qfm5pedb9r4o3dbp",
    "colab": {},
    "colab_type": "code",
    "id": "8MSaXZv2OgVU"
   },
   "outputs": [],
   "source": [
    "file = 'data_fact_week_3.csv'\n",
    "raw_data = pd.read_csv(file, parse_dates = ['date'], index_col = 'date')\n",
    "\n",
    "df = raw_data.copy()"
   ]
  },
  {
   "cell_type": "markdown",
   "metadata": {
    "cellId": "n79e85b8w9ix4iy8ucrhz",
    "colab_type": "text",
    "id": "TqPsvKnPOgVl"
   },
   "source": [
    "## Split the dataset into train and test data\n",
    "In this project, I set the first 80% of data as train data and the remaining 20% as test data. I train the model with train data and validate its performance with test data."
   ]
  },
  {
   "cell_type": "code",
   "execution_count": 4,
   "metadata": {
    "cellId": "8pm5wruyv8blh9prsmca49",
    "colab": {
     "base_uri": "https://localhost:8080/",
     "height": 457
    },
    "colab_type": "code",
    "id": "eK-Ffr8IOgVn",
    "outputId": "ac891cca-5a92-4318-85c3-819beba18e9f"
   },
   "outputs": [
    {
     "name": "stdout",
     "output_type": "stream",
     "text": [
      "Dimension of train data:  (128, 1)\n",
      "Dimension of test data:  (32, 1)\n"
     ]
    },
    {
     "data": {
      "image/png": "[encoded data removed]",
      "text/plain": [
       "<Figure size 720x432 with 1 Axes>"
      ]
     },
     "metadata": {
      "needs_background": "light"
     },
     "output_type": "display_data"
    }
   ],
   "source": [
    "train_size = int(len(df)*0.8)\n",
    "train_dataset, test_dataset = df.iloc[:train_size], df.iloc[train_size:]\n",
    "\n",
    "# Plot train and test data\n",
    "plt.figure(figsize = (10, 6))\n",
    "plt.plot(train_dataset.fact)\n",
    "plt.plot(test_dataset.fact)\n",
    "plt.xlabel('Время (неделя)')\n",
    "plt.ylabel('Еженедельное потребление нефти (т/нед)')\n",
    "plt.legend(['Выборка для обучения', 'Выборка для валидации'], loc='upper right')\n",
    "\n",
    "print('Dimension of train data: ',train_dataset.shape)\n",
    "print('Dimension of test data: ', test_dataset.shape)"
   ]
  },
  {
   "cell_type": "markdown",
   "metadata": {
    "cellId": "xknyr05binq53txct1lwar",
    "colab_type": "text",
    "id": "CfDCt6WSOgVx"
   },
   "source": [
    "## Data transformation \n",
    "A good rule of thumb is that normalized data lead to better performance in Neural Networks. In this project, I use **MinMaxScaler** from sklearn. "
   ]
  },
  {
   "cell_type": "code",
   "execution_count": 5,
   "metadata": {
    "cellId": "5ml8ibaol06aa7llomckv5",
    "colab": {},
    "colab_type": "code",
    "id": "eU1WeID6kIF0"
   },
   "outputs": [],
   "source": [
    "scaler = MinMaxScaler(feature_range=(0, 1))\n",
    "train_norm = scaler.fit_transform(train_dataset)\n",
    "test_norm = scaler.fit_transform(test_dataset)\n",
    "df_norm = scaler.fit_transform(df)"
   ]
  },
  {
   "cell_type": "markdown",
   "metadata": {
    "cellId": "9uu8id7682g37g9kv21wul",
    "colab_type": "text",
    "id": "ZlOMHf0oOgV6"
   },
   "source": [
    "## Create a 3D Input Dataset\n",
    "LSTM, GRU and BiLSTM take a 3D input (num_samples, num_timesteps, num_features). So, I create a helper function, *create_dataset*, to reshape input.\n",
    "\n",
    "In this project, I define time_steps = 3. It means that the model makes predictions based on the last 3-month data (In the first iteration of the for-loop, the input carries the first 3 months and the output is 'fact' on the 3d month)."
   ]
  },
  {
   "cell_type": "code",
   "execution_count": 6,
   "metadata": {
    "cellId": "8c1r9v1rmodeazits00bn",
    "colab": {
     "base_uri": "https://localhost:8080/",
     "height": 87
    },
    "colab_type": "code",
    "id": "I8_n1X4WOgV7",
    "outputId": "e252b0ff-18af-48fa-9b54-715495b474ed"
   },
   "outputs": [
    {
     "name": "stdout",
     "output_type": "stream",
     "text": [
      "trainX.shape:  (125, 3, 1)\n",
      "trainY.shape:  (125, 1)\n",
      "testX.shape:  (29, 3, 1)\n",
      "testY.shape:  (29, 1)\n"
     ]
    }
   ],
   "source": [
    "# convert an array of values into a dataset matrix\n",
    "def create_dataset(dataset, time_steps = 1):\n",
    "    dataX, dataY = [], []\n",
    "    for i in range(len(dataset)-time_steps):\n",
    "        a = dataset[i:i+time_steps, :]\n",
    "        dataX.append(a)\n",
    "        dataY.append(dataset[i + time_steps])\n",
    "    return numpy.array(dataX), numpy.array(dataY)\n",
    "\n",
    "TIME_STEPS = 3\n",
    "\n",
    "trainX, trainY = create_dataset(train_norm, TIME_STEPS)\n",
    "testX, testY = create_dataset(test_norm, TIME_STEPS)\n",
    "X, y = create_dataset(df_norm, TIME_STEPS)\n",
    "print('trainX.shape: ', trainX.shape)\n",
    "print('trainY.shape: ', trainY.shape)\n",
    "print('testX.shape: ', testX.shape) \n",
    "print('testY.shape: ', testY.shape)"
   ]
  },
  {
   "cell_type": "code",
   "execution_count": 7,
   "metadata": {},
   "outputs": [],
   "source": [
    "df2 = pd.DataFrame(X[:, :, 0])"
   ]
  },
  {
   "cell_type": "code",
   "execution_count": 8,
   "metadata": {},
   "outputs": [],
   "source": [
    "df2.rename(columns=lambda x: \"Week\" + str(x + 1), inplace=True)"
   ]
  },
  {
   "cell_type": "code",
   "execution_count": 14,
   "metadata": {},
   "outputs": [],
   "source": [
    "df2['target'] = y"
   ]
  },
  {
   "cell_type": "code",
   "execution_count": 15,
   "metadata": {},
   "outputs": [],
   "source": [
    "df2.index = df[3:].index"
   ]
  },
  {
   "cell_type": "code",
   "execution_count": 16,
   "metadata": {
    "scrolled": true
   },
   "outputs": [
    {
     "data": {
      "text/html": [
       "<div>\n",
       "<style scoped>\n",
       "    .dataframe tbody tr th:only-of-type {\n",
       "        vertical-align: middle;\n",
       "    }\n",
       "\n",
       "    .dataframe tbody tr th {\n",
       "        vertical-align: top;\n",
       "    }\n",
       "\n",
       "    .dataframe thead th {\n",
       "        text-align: right;\n",
       "    }\n",
       "</style>\n",
       "<table border=\"1\" class=\"dataframe\">\n",
       "  <thead>\n",
       "    <tr style=\"text-align: right;\">\n",
       "      <th></th>\n",
       "      <th>Week1</th>\n",
       "      <th>Week2</th>\n",
       "      <th>Week3</th>\n",
       "      <th>consumption</th>\n",
       "    </tr>\n",
       "    <tr>\n",
       "      <th>date</th>\n",
       "      <th></th>\n",
       "      <th></th>\n",
       "      <th></th>\n",
       "      <th></th>\n",
       "    </tr>\n",
       "  </thead>\n",
       "  <tbody>\n",
       "    <tr>\n",
       "      <th>2018-04-01</th>\n",
       "      <td>0.931111</td>\n",
       "      <td>0.920726</td>\n",
       "      <td>0.800402</td>\n",
       "      <td>0.864046</td>\n",
       "    </tr>\n",
       "    <tr>\n",
       "      <th>2018-04-08</th>\n",
       "      <td>0.920726</td>\n",
       "      <td>0.800402</td>\n",
       "      <td>0.864046</td>\n",
       "      <td>0.796018</td>\n",
       "    </tr>\n",
       "    <tr>\n",
       "      <th>2018-04-15</th>\n",
       "      <td>0.800402</td>\n",
       "      <td>0.864046</td>\n",
       "      <td>0.796018</td>\n",
       "      <td>0.819431</td>\n",
       "    </tr>\n",
       "    <tr>\n",
       "      <th>2018-04-22</th>\n",
       "      <td>0.864046</td>\n",
       "      <td>0.796018</td>\n",
       "      <td>0.819431</td>\n",
       "      <td>0.979024</td>\n",
       "    </tr>\n",
       "    <tr>\n",
       "      <th>2018-04-29</th>\n",
       "      <td>0.796018</td>\n",
       "      <td>0.819431</td>\n",
       "      <td>0.979024</td>\n",
       "      <td>0.984452</td>\n",
       "    </tr>\n",
       "    <tr>\n",
       "      <th>...</th>\n",
       "      <td>...</td>\n",
       "      <td>...</td>\n",
       "      <td>...</td>\n",
       "      <td>...</td>\n",
       "    </tr>\n",
       "    <tr>\n",
       "      <th>2021-02-28</th>\n",
       "      <td>0.724282</td>\n",
       "      <td>0.739297</td>\n",
       "      <td>0.725695</td>\n",
       "      <td>0.730837</td>\n",
       "    </tr>\n",
       "    <tr>\n",
       "      <th>2021-03-07</th>\n",
       "      <td>0.739297</td>\n",
       "      <td>0.725695</td>\n",
       "      <td>0.730837</td>\n",
       "      <td>0.732885</td>\n",
       "    </tr>\n",
       "    <tr>\n",
       "      <th>2021-03-14</th>\n",
       "      <td>0.725695</td>\n",
       "      <td>0.730837</td>\n",
       "      <td>0.732885</td>\n",
       "      <td>0.722336</td>\n",
       "    </tr>\n",
       "    <tr>\n",
       "      <th>2021-03-21</th>\n",
       "      <td>0.730837</td>\n",
       "      <td>0.732885</td>\n",
       "      <td>0.722336</td>\n",
       "      <td>0.728338</td>\n",
       "    </tr>\n",
       "    <tr>\n",
       "      <th>2021-03-28</th>\n",
       "      <td>0.732885</td>\n",
       "      <td>0.722336</td>\n",
       "      <td>0.728338</td>\n",
       "      <td>0.713937</td>\n",
       "    </tr>\n",
       "  </tbody>\n",
       "</table>\n",
       "<p>157 rows × 4 columns</p>\n",
       "</div>"
      ],
      "text/plain": [
       "               Week1     Week2     Week3  consumption\n",
       "date                                                 \n",
       "2018-04-01  0.931111  0.920726  0.800402     0.864046\n",
       "2018-04-08  0.920726  0.800402  0.864046     0.796018\n",
       "2018-04-15  0.800402  0.864046  0.796018     0.819431\n",
       "2018-04-22  0.864046  0.796018  0.819431     0.979024\n",
       "2018-04-29  0.796018  0.819431  0.979024     0.984452\n",
       "...              ...       ...       ...          ...\n",
       "2021-02-28  0.724282  0.739297  0.725695     0.730837\n",
       "2021-03-07  0.739297  0.725695  0.730837     0.732885\n",
       "2021-03-14  0.725695  0.730837  0.732885     0.722336\n",
       "2021-03-21  0.730837  0.732885  0.722336     0.728338\n",
       "2021-03-28  0.732885  0.722336  0.728338     0.713937\n",
       "\n",
       "[157 rows x 4 columns]"
      ]
     },
     "execution_count": 16,
     "metadata": {},
     "output_type": "execute_result"
    }
   ],
   "source": [
    "df2"
   ]
  },
  {
   "cell_type": "code",
   "execution_count": 17,
   "metadata": {},
   "outputs": [
    {
     "data": {
      "application/vnd.plotly.v1+json": {
       "config": {
        "linkText": "Export to plot.ly",
        "plotlyServerURL": "https://plot.ly",
        "showLink": true
       },
       "data": [
        {
         "histfunc": "count",
         "histnorm": "",
         "marker": {
          "color": "rgba(255, 153, 51, 1.0)",
          "line": {
           "color": "#4D5663",
           "width": 1.3
          }
         },
         "name": "consumption",
         "opacity": 0.8,
         "orientation": "v",
         "type": "histogram",
         "x": [
          0.8640460620671734,
          0.7960178611030989,
          0.8194313625317002,
          0.9790241282943056,
          0.9844524520997237,
          0.9925642156516279,
          0.979249454695483,
          1,
          0.986808140778265,
          0.515260771950527,
          0.7746732579751381,
          0.35863820681589237,
          0.8441353370876755,
          0.9706870252317057,
          0.7911835754568473,
          0.3632266791611854,
          0.3614035777746055,
          0.4139866354312213,
          0.2943996070913076,
          0.2943996070913076,
          0.2943996070913076,
          0.2943996070913076,
          0.2943996070913076,
          0.2943996070913076,
          0.2943996070913076,
          0.2943996070913076,
          0.2943996070913076,
          0.2943996070913076,
          0.2943996070913076,
          0.2943996070913076,
          0.2943996070913076,
          0.2943996070913076,
          0.2943996070913076,
          0.2943996070913076,
          0.45903149472418114,
          0.45212829439039093,
          0.45212829439039093,
          0.45212829439039093,
          0.6312425618943771,
          0.7634478854967947,
          0.48367403643853896,
          0.48367403643853896,
          0.4568806389922768,
          0.4792699265269996,
          0.766090377662755,
          0.6872669930645677,
          0.5972592097875994,
          0.8148838672633493,
          0.8152320822894182,
          0.8289360582902313,
          0.6672129187794337,
          0.5937564120355286,
          0.4436683289219361,
          0.4436683289219361,
          0.4436683289219361,
          0.4436683289219361,
          0.4436683289219361,
          0.4436683289219361,
          0.4436683289219361,
          0.4436683289219361,
          0.4436683289219361,
          0.7384571222016086,
          0.8015486161300436,
          0.5683764271409154,
          0.7925969814537369,
          0.9544225571021306,
          0.6963210163564664,
          0.8863329151029898,
          0.8844278792268034,
          0.7947683208080429,
          0.9233274613015782,
          0.8903068492798172,
          0.8270310093045264,
          0.7239952488945548,
          0.6910975320524445,
          0.7218034160857084,
          0.7435986621838853,
          0.9265229981628649,
          0.924044381530877,
          0.9637428740400101,
          0.9818099795980408,
          0.9705436595391717,
          0.980867706748528,
          0.8869064794718934,
          0.9108320583510179,
          0.959011019615285,
          0.9402269544994004,
          0.9011020689651054,
          0.7802039998925645,
          0.8280552297531643,
          0.8189807031745864,
          0.8279118312868343,
          0.7263714211954978,
          0.7297308270359977,
          0.7955467246783425,
          0.7792003023948834,
          0.7865131718993271,
          0.9755213174327165,
          0.974353705072508,
          0.9749887301407552,
          0.982916121426767,
          0.9249866805994265,
          0.81670696209517,
          0.09305993639452866,
          0.014093162342805264,
          0.0014338973774633348,
          0.010405997855420193,
          0.010651808288671683,
          0.009095006078650523,
          0.008132246226938316,
          0.006616412183483475,
          0.007046581261018481,
          0,
          0.29001597260872086,
          0.7013396742686105,
          0.6773935789932886,
          0.6537547642730281,
          0.653754757718269,
          0.6874103718666201,
          0.7006022310883551,
          0.7027735671652815,
          0.7016264384274745,
          0.7051907001562685,
          0.7597402449659483,
          0.7002949767523302,
          0.7057437776253908,
          0.7073005657017125,
          0.8126305835872979,
          0.8287312089566964,
          0.837498461534972,
          0.7751034402646095,
          0.7279896666937836,
          0.7436601228832289,
          0.7746323038398532,
          0.7696136655919865,
          0.7548854822520541,
          0.7623007895327836,
          0.704371342150684,
          0.6913843257077248,
          0.7032651937671986,
          0.7094309410885947,
          0.7000901274187953,
          0.6993731809704599,
          0.6876152212001551,
          0.7003769112419368,
          0.6992297890588891,
          0.6645499610166593,
          0.6346634448211187,
          0.7066860570296628,
          0.7242817049979163,
          0.7392969671020803,
          0.7256954420171358,
          0.7308369885422857,
          0.7328854097060654,
          0.7223360165312361,
          0.7283379079871323,
          0.7139374691491988
         ]
        }
       ],
       "layout": {
        "barmode": "overlay",
        "legend": {
         "bgcolor": "#F5F6F9",
         "font": {
          "color": "#4D5663"
         }
        },
        "paper_bgcolor": "#F5F6F9",
        "plot_bgcolor": "#F5F6F9",
        "template": {
         "data": {
          "bar": [
           {
            "error_x": {
             "color": "#2a3f5f"
            },
            "error_y": {
             "color": "#2a3f5f"
            },
            "marker": {
             "line": {
              "color": "#E5ECF6",
              "width": 0.5
             }
            },
            "type": "bar"
           }
          ],
          "barpolar": [
           {
            "marker": {
             "line": {
              "color": "#E5ECF6",
              "width": 0.5
             }
            },
            "type": "barpolar"
           }
          ],
          "carpet": [
           {
            "aaxis": {
             "endlinecolor": "#2a3f5f",
             "gridcolor": "white",
             "linecolor": "white",
             "minorgridcolor": "white",
             "startlinecolor": "#2a3f5f"
            },
            "baxis": {
             "endlinecolor": "#2a3f5f",
             "gridcolor": "white",
             "linecolor": "white",
             "minorgridcolor": "white",
             "startlinecolor": "#2a3f5f"
            },
            "type": "carpet"
           }
          ],
          "choropleth": [
           {
            "colorbar": {
             "outlinewidth": 0,
             "ticks": ""
            },
            "type": "choropleth"
           }
          ],
          "contour": [
           {
            "colorbar": {
             "outlinewidth": 0,
             "ticks": ""
            },
            "colorscale": [
             [
              0,
              "#0d0887"
             ],
             [
              0.1111111111111111,
              "#46039f"
             ],
             [
              0.2222222222222222,
              "#7201a8"
             ],
             [
              0.3333333333333333,
              "#9c179e"
             ],
             [
              0.4444444444444444,
              "#bd3786"
             ],
             [
              0.5555555555555556,
              "#d8576b"
             ],
             [
              0.6666666666666666,
              "#ed7953"
             ],
             [
              0.7777777777777778,
              "#fb9f3a"
             ],
             [
              0.8888888888888888,
              "#fdca26"
             ],
             [
              1,
              "#f0f921"
             ]
            ],
            "type": "contour"
           }
          ],
          "contourcarpet": [
           {
            "colorbar": {
             "outlinewidth": 0,
             "ticks": ""
            },
            "type": "contourcarpet"
           }
          ],
          "heatmap": [
           {
            "colorbar": {
             "outlinewidth": 0,
             "ticks": ""
            },
            "colorscale": [
             [
              0,
              "#0d0887"
             ],
             [
              0.1111111111111111,
              "#46039f"
             ],
             [
              0.2222222222222222,
              "#7201a8"
             ],
             [
              0.3333333333333333,
              "#9c179e"
             ],
             [
              0.4444444444444444,
              "#bd3786"
             ],
             [
              0.5555555555555556,
              "#d8576b"
             ],
             [
              0.6666666666666666,
              "#ed7953"
             ],
             [
              0.7777777777777778,
              "#fb9f3a"
             ],
             [
              0.8888888888888888,
              "#fdca26"
             ],
             [
              1,
              "#f0f921"
             ]
            ],
            "type": "heatmap"
           }
          ],
          "heatmapgl": [
           {
            "colorbar": {
             "outlinewidth": 0,
             "ticks": ""
            },
            "colorscale": [
             [
              0,
              "#0d0887"
             ],
             [
              0.1111111111111111,
              "#46039f"
             ],
             [
              0.2222222222222222,
              "#7201a8"
             ],
             [
              0.3333333333333333,
              "#9c179e"
             ],
             [
              0.4444444444444444,
              "#bd3786"
             ],
             [
              0.5555555555555556,
              "#d8576b"
             ],
             [
              0.6666666666666666,
              "#ed7953"
             ],
             [
              0.7777777777777778,
              "#fb9f3a"
             ],
             [
              0.8888888888888888,
              "#fdca26"
             ],
             [
              1,
              "#f0f921"
             ]
            ],
            "type": "heatmapgl"
           }
          ],
          "histogram": [
           {
            "marker": {
             "colorbar": {
              "outlinewidth": 0,
              "ticks": ""
             }
            },
            "type": "histogram"
           }
          ],
          "histogram2d": [
           {
            "colorbar": {
             "outlinewidth": 0,
             "ticks": ""
            },
            "colorscale": [
             [
              0,
              "#0d0887"
             ],
             [
              0.1111111111111111,
              "#46039f"
             ],
             [
              0.2222222222222222,
              "#7201a8"
             ],
             [
              0.3333333333333333,
              "#9c179e"
             ],
             [
              0.4444444444444444,
              "#bd3786"
             ],
             [
              0.5555555555555556,
              "#d8576b"
             ],
             [
              0.6666666666666666,
              "#ed7953"
             ],
             [
              0.7777777777777778,
              "#fb9f3a"
             ],
             [
              0.8888888888888888,
              "#fdca26"
             ],
             [
              1,
              "#f0f921"
             ]
            ],
            "type": "histogram2d"
           }
          ],
          "histogram2dcontour": [
           {
            "colorbar": {
             "outlinewidth": 0,
             "ticks": ""
            },
            "colorscale": [
             [
              0,
              "#0d0887"
             ],
             [
              0.1111111111111111,
              "#46039f"
             ],
             [
              0.2222222222222222,
              "#7201a8"
             ],
             [
              0.3333333333333333,
              "#9c179e"
             ],
             [
              0.4444444444444444,
              "#bd3786"
             ],
             [
              0.5555555555555556,
              "#d8576b"
             ],
             [
              0.6666666666666666,
              "#ed7953"
             ],
             [
              0.7777777777777778,
              "#fb9f3a"
             ],
             [
              0.8888888888888888,
              "#fdca26"
             ],
             [
              1,
              "#f0f921"
             ]
            ],
            "type": "histogram2dcontour"
           }
          ],
          "mesh3d": [
           {
            "colorbar": {
             "outlinewidth": 0,
             "ticks": ""
            },
            "type": "mesh3d"
           }
          ],
          "parcoords": [
           {
            "line": {
             "colorbar": {
              "outlinewidth": 0,
              "ticks": ""
             }
            },
            "type": "parcoords"
           }
          ],
          "pie": [
           {
            "automargin": true,
            "type": "pie"
           }
          ],
          "scatter": [
           {
            "marker": {
             "colorbar": {
              "outlinewidth": 0,
              "ticks": ""
             }
            },
            "type": "scatter"
           }
          ],
          "scatter3d": [
           {
            "line": {
             "colorbar": {
              "outlinewidth": 0,
              "ticks": ""
             }
            },
            "marker": {
             "colorbar": {
              "outlinewidth": 0,
              "ticks": ""
             }
            },
            "type": "scatter3d"
           }
          ],
          "scattercarpet": [
           {
            "marker": {
             "colorbar": {
              "outlinewidth": 0,
              "ticks": ""
             }
            },
            "type": "scattercarpet"
           }
          ],
          "scattergeo": [
           {
            "marker": {
             "colorbar": {
              "outlinewidth": 0,
              "ticks": ""
             }
            },
            "type": "scattergeo"
           }
          ],
          "scattergl": [
           {
            "marker": {
             "colorbar": {
              "outlinewidth": 0,
              "ticks": ""
             }
            },
            "type": "scattergl"
           }
          ],
          "scattermapbox": [
           {
            "marker": {
             "colorbar": {
              "outlinewidth": 0,
              "ticks": ""
             }
            },
            "type": "scattermapbox"
           }
          ],
          "scatterpolar": [
           {
            "marker": {
             "colorbar": {
              "outlinewidth": 0,
              "ticks": ""
             }
            },
            "type": "scatterpolar"
           }
          ],
          "scatterpolargl": [
           {
            "marker": {
             "colorbar": {
              "outlinewidth": 0,
              "ticks": ""
             }
            },
            "type": "scatterpolargl"
           }
          ],
          "scatterternary": [
           {
            "marker": {
             "colorbar": {
              "outlinewidth": 0,
              "ticks": ""
             }
            },
            "type": "scatterternary"
           }
          ],
          "surface": [
           {
            "colorbar": {
             "outlinewidth": 0,
             "ticks": ""
            },
            "colorscale": [
             [
              0,
              "#0d0887"
             ],
             [
              0.1111111111111111,
              "#46039f"
             ],
             [
              0.2222222222222222,
              "#7201a8"
             ],
             [
              0.3333333333333333,
              "#9c179e"
             ],
             [
              0.4444444444444444,
              "#bd3786"
             ],
             [
              0.5555555555555556,
              "#d8576b"
             ],
             [
              0.6666666666666666,
              "#ed7953"
             ],
             [
              0.7777777777777778,
              "#fb9f3a"
             ],
             [
              0.8888888888888888,
              "#fdca26"
             ],
             [
              1,
              "#f0f921"
             ]
            ],
            "type": "surface"
           }
          ],
          "table": [
           {
            "cells": {
             "fill": {
              "color": "#EBF0F8"
             },
             "line": {
              "color": "white"
             }
            },
            "header": {
             "fill": {
              "color": "#C8D4E3"
             },
             "line": {
              "color": "white"
             }
            },
            "type": "table"
           }
          ]
         },
         "layout": {
          "annotationdefaults": {
           "arrowcolor": "#2a3f5f",
           "arrowhead": 0,
           "arrowwidth": 1
          },
          "coloraxis": {
           "colorbar": {
            "outlinewidth": 0,
            "ticks": ""
           }
          },
          "colorscale": {
           "diverging": [
            [
             0,
             "#8e0152"
            ],
            [
             0.1,
             "#c51b7d"
            ],
            [
             0.2,
             "#de77ae"
            ],
            [
             0.3,
             "#f1b6da"
            ],
            [
             0.4,
             "#fde0ef"
            ],
            [
             0.5,
             "#f7f7f7"
            ],
            [
             0.6,
             "#e6f5d0"
            ],
            [
             0.7,
             "#b8e186"
            ],
            [
             0.8,
             "#7fbc41"
            ],
            [
             0.9,
             "#4d9221"
            ],
            [
             1,
             "#276419"
            ]
           ],
           "sequential": [
            [
             0,
             "#0d0887"
            ],
            [
             0.1111111111111111,
             "#46039f"
            ],
            [
             0.2222222222222222,
             "#7201a8"
            ],
            [
             0.3333333333333333,
             "#9c179e"
            ],
            [
             0.4444444444444444,
             "#bd3786"
            ],
            [
             0.5555555555555556,
             "#d8576b"
            ],
            [
             0.6666666666666666,
             "#ed7953"
            ],
            [
             0.7777777777777778,
             "#fb9f3a"
            ],
            [
             0.8888888888888888,
             "#fdca26"
            ],
            [
             1,
             "#f0f921"
            ]
           ],
           "sequentialminus": [
            [
             0,
             "#0d0887"
            ],
            [
             0.1111111111111111,
             "#46039f"
            ],
            [
             0.2222222222222222,
             "#7201a8"
            ],
            [
             0.3333333333333333,
             "#9c179e"
            ],
            [
             0.4444444444444444,
             "#bd3786"
            ],
            [
             0.5555555555555556,
             "#d8576b"
            ],
            [
             0.6666666666666666,
             "#ed7953"
            ],
            [
             0.7777777777777778,
             "#fb9f3a"
            ],
            [
             0.8888888888888888,
             "#fdca26"
            ],
            [
             1,
             "#f0f921"
            ]
           ]
          },
          "colorway": [
           "#636efa",
           "#EF553B",
           "#00cc96",
           "#ab63fa",
           "#FFA15A",
           "#19d3f3",
           "#FF6692",
           "#B6E880",
           "#FF97FF",
           "#FECB52"
          ],
          "font": {
           "color": "#2a3f5f"
          },
          "geo": {
           "bgcolor": "white",
           "lakecolor": "white",
           "landcolor": "#E5ECF6",
           "showlakes": true,
           "showland": true,
           "subunitcolor": "white"
          },
          "hoverlabel": {
           "align": "left"
          },
          "hovermode": "closest",
          "mapbox": {
           "style": "light"
          },
          "paper_bgcolor": "white",
          "plot_bgcolor": "#E5ECF6",
          "polar": {
           "angularaxis": {
            "gridcolor": "white",
            "linecolor": "white",
            "ticks": ""
           },
           "bgcolor": "#E5ECF6",
           "radialaxis": {
            "gridcolor": "white",
            "linecolor": "white",
            "ticks": ""
           }
          },
          "scene": {
           "xaxis": {
            "backgroundcolor": "#E5ECF6",
            "gridcolor": "white",
            "gridwidth": 2,
            "linecolor": "white",
            "showbackground": true,
            "ticks": "",
            "zerolinecolor": "white"
           },
           "yaxis": {
            "backgroundcolor": "#E5ECF6",
            "gridcolor": "white",
            "gridwidth": 2,
            "linecolor": "white",
            "showbackground": true,
            "ticks": "",
            "zerolinecolor": "white"
           },
           "zaxis": {
            "backgroundcolor": "#E5ECF6",
            "gridcolor": "white",
            "gridwidth": 2,
            "linecolor": "white",
            "showbackground": true,
            "ticks": "",
            "zerolinecolor": "white"
           }
          },
          "shapedefaults": {
           "line": {
            "color": "#2a3f5f"
           }
          },
          "ternary": {
           "aaxis": {
            "gridcolor": "white",
            "linecolor": "white",
            "ticks": ""
           },
           "baxis": {
            "gridcolor": "white",
            "linecolor": "white",
            "ticks": ""
           },
           "bgcolor": "#E5ECF6",
           "caxis": {
            "gridcolor": "white",
            "linecolor": "white",
            "ticks": ""
           }
          },
          "title": {
           "x": 0.05
          },
          "xaxis": {
           "automargin": true,
           "gridcolor": "white",
           "linecolor": "white",
           "ticks": "",
           "title": {
            "standoff": 15
           },
           "zerolinecolor": "white",
           "zerolinewidth": 2
          },
          "yaxis": {
           "automargin": true,
           "gridcolor": "white",
           "linecolor": "white",
           "ticks": "",
           "title": {
            "standoff": 15
           },
           "zerolinecolor": "white",
           "zerolinewidth": 2
          }
         }
        },
        "title": {
         "font": {
          "color": "#4D5663"
         }
        },
        "xaxis": {
         "gridcolor": "#E1E5ED",
         "showgrid": true,
         "tickfont": {
          "color": "#4D5663"
         },
         "title": {
          "font": {
           "color": "#4D5663"
          },
          "text": ""
         },
         "zerolinecolor": "#E1E5ED"
        },
        "yaxis": {
         "gridcolor": "#E1E5ED",
         "showgrid": true,
         "tickfont": {
          "color": "#4D5663"
         },
         "title": {
          "font": {
           "color": "#4D5663"
          },
          "text": ""
         },
         "zerolinecolor": "#E1E5ED"
        }
       }
      },
      "text/html": [
       "<div>\n",
       "        \n",
       "        \n",
       "            <div id=\"cffb316c-862b-4fbd-ab40-0eb59980b361\" class=\"plotly-graph-div\" style=\"height:525px; width:100%;\"></div>\n",
       "            <script type=\"text/javascript\">\n",
       "                require([\"plotly\"], function(Plotly) {\n",
       "                    window.PLOTLYENV=window.PLOTLYENV || {};\n",
       "                    window.PLOTLYENV.BASE_URL='https://plot.ly';\n",
       "                    \n",
       "                if (document.getElementById(\"cffb316c-862b-4fbd-ab40-0eb59980b361\")) {\n",
       "                    Plotly.newPlot(\n",
       "                        'cffb316c-862b-4fbd-ab40-0eb59980b361',\n",
       "                        [{\"histfunc\": \"count\", \"histnorm\": \"\", \"marker\": {\"color\": \"rgba(255, 153, 51, 1.0)\", \"line\": {\"color\": \"#4D5663\", \"width\": 1.3}}, \"name\": \"consumption\", \"opacity\": 0.8, \"orientation\": \"v\", \"type\": \"histogram\", \"x\": [0.8640460620671734, 0.7960178611030989, 0.8194313625317002, 0.9790241282943056, 0.9844524520997237, 0.9925642156516279, 0.979249454695483, 1.0, 0.986808140778265, 0.515260771950527, 0.7746732579751381, 0.35863820681589237, 0.8441353370876755, 0.9706870252317057, 0.7911835754568473, 0.3632266791611854, 0.3614035777746055, 0.4139866354312213, 0.2943996070913076, 0.2943996070913076, 0.2943996070913076, 0.2943996070913076, 0.2943996070913076, 0.2943996070913076, 0.2943996070913076, 0.2943996070913076, 0.2943996070913076, 0.2943996070913076, 0.2943996070913076, 0.2943996070913076, 0.2943996070913076, 0.2943996070913076, 0.2943996070913076, 0.2943996070913076, 0.45903149472418114, 0.45212829439039093, 0.45212829439039093, 0.45212829439039093, 0.6312425618943771, 0.7634478854967947, 0.48367403643853896, 0.48367403643853896, 0.4568806389922768, 0.4792699265269996, 0.766090377662755, 0.6872669930645677, 0.5972592097875994, 0.8148838672633493, 0.8152320822894182, 0.8289360582902313, 0.6672129187794337, 0.5937564120355286, 0.4436683289219361, 0.4436683289219361, 0.4436683289219361, 0.4436683289219361, 0.4436683289219361, 0.4436683289219361, 0.4436683289219361, 0.4436683289219361, 0.4436683289219361, 0.7384571222016086, 0.8015486161300436, 0.5683764271409154, 0.7925969814537369, 0.9544225571021306, 0.6963210163564664, 0.8863329151029898, 0.8844278792268034, 0.7947683208080429, 0.9233274613015782, 0.8903068492798172, 0.8270310093045264, 0.7239952488945548, 0.6910975320524445, 0.7218034160857084, 0.7435986621838853, 0.9265229981628649, 0.924044381530877, 0.9637428740400101, 0.9818099795980408, 0.9705436595391717, 0.980867706748528, 0.8869064794718934, 0.9108320583510179, 0.959011019615285, 0.9402269544994004, 0.9011020689651054, 0.7802039998925645, 0.8280552297531643, 0.8189807031745864, 0.8279118312868343, 0.7263714211954978, 0.7297308270359977, 0.7955467246783425, 0.7792003023948834, 0.7865131718993271, 0.9755213174327165, 0.974353705072508, 0.9749887301407552, 0.982916121426767, 0.9249866805994265, 0.81670696209517, 0.09305993639452866, 0.014093162342805264, 0.0014338973774633348, 0.010405997855420193, 0.010651808288671683, 0.009095006078650523, 0.008132246226938316, 0.006616412183483475, 0.007046581261018481, 0.0, 0.29001597260872086, 0.7013396742686105, 0.6773935789932886, 0.6537547642730281, 0.653754757718269, 0.6874103718666201, 0.7006022310883551, 0.7027735671652815, 0.7016264384274745, 0.7051907001562685, 0.7597402449659483, 0.7002949767523302, 0.7057437776253908, 0.7073005657017125, 0.8126305835872979, 0.8287312089566964, 0.837498461534972, 0.7751034402646095, 0.7279896666937836, 0.7436601228832289, 0.7746323038398532, 0.7696136655919865, 0.7548854822520541, 0.7623007895327836, 0.704371342150684, 0.6913843257077248, 0.7032651937671986, 0.7094309410885947, 0.7000901274187953, 0.6993731809704599, 0.6876152212001551, 0.7003769112419368, 0.6992297890588891, 0.6645499610166593, 0.6346634448211187, 0.7066860570296628, 0.7242817049979163, 0.7392969671020803, 0.7256954420171358, 0.7308369885422857, 0.7328854097060654, 0.7223360165312361, 0.7283379079871323, 0.7139374691491988]}],\n",
       "                        {\"barmode\": \"overlay\", \"legend\": {\"bgcolor\": \"#F5F6F9\", \"font\": {\"color\": \"#4D5663\"}}, \"paper_bgcolor\": \"#F5F6F9\", \"plot_bgcolor\": \"#F5F6F9\", \"template\": {\"data\": {\"bar\": [{\"error_x\": {\"color\": \"#2a3f5f\"}, \"error_y\": {\"color\": \"#2a3f5f\"}, \"marker\": {\"line\": {\"color\": \"#E5ECF6\", \"width\": 0.5}}, \"type\": \"bar\"}], \"barpolar\": [{\"marker\": {\"line\": {\"color\": \"#E5ECF6\", \"width\": 0.5}}, \"type\": \"barpolar\"}], \"carpet\": [{\"aaxis\": {\"endlinecolor\": \"#2a3f5f\", \"gridcolor\": \"white\", \"linecolor\": \"white\", \"minorgridcolor\": \"white\", \"startlinecolor\": \"#2a3f5f\"}, \"baxis\": {\"endlinecolor\": \"#2a3f5f\", \"gridcolor\": \"white\", \"linecolor\": \"white\", \"minorgridcolor\": \"white\", \"startlinecolor\": \"#2a3f5f\"}, \"type\": \"carpet\"}], \"choropleth\": [{\"colorbar\": {\"outlinewidth\": 0, \"ticks\": \"\"}, \"type\": \"choropleth\"}], \"contour\": [{\"colorbar\": {\"outlinewidth\": 0, \"ticks\": \"\"}, \"colorscale\": [[0.0, \"#0d0887\"], [0.1111111111111111, \"#46039f\"], [0.2222222222222222, \"#7201a8\"], [0.3333333333333333, \"#9c179e\"], [0.4444444444444444, \"#bd3786\"], [0.5555555555555556, \"#d8576b\"], [0.6666666666666666, \"#ed7953\"], [0.7777777777777778, \"#fb9f3a\"], [0.8888888888888888, \"#fdca26\"], [1.0, \"#f0f921\"]], \"type\": \"contour\"}], \"contourcarpet\": [{\"colorbar\": {\"outlinewidth\": 0, \"ticks\": \"\"}, \"type\": \"contourcarpet\"}], \"heatmap\": [{\"colorbar\": {\"outlinewidth\": 0, \"ticks\": \"\"}, \"colorscale\": [[0.0, \"#0d0887\"], [0.1111111111111111, \"#46039f\"], [0.2222222222222222, \"#7201a8\"], [0.3333333333333333, \"#9c179e\"], [0.4444444444444444, \"#bd3786\"], [0.5555555555555556, \"#d8576b\"], [0.6666666666666666, \"#ed7953\"], [0.7777777777777778, \"#fb9f3a\"], [0.8888888888888888, \"#fdca26\"], [1.0, \"#f0f921\"]], \"type\": \"heatmap\"}], \"heatmapgl\": [{\"colorbar\": {\"outlinewidth\": 0, \"ticks\": \"\"}, \"colorscale\": [[0.0, \"#0d0887\"], [0.1111111111111111, \"#46039f\"], [0.2222222222222222, \"#7201a8\"], [0.3333333333333333, \"#9c179e\"], [0.4444444444444444, \"#bd3786\"], [0.5555555555555556, \"#d8576b\"], [0.6666666666666666, \"#ed7953\"], [0.7777777777777778, \"#fb9f3a\"], [0.8888888888888888, \"#fdca26\"], [1.0, \"#f0f921\"]], \"type\": \"heatmapgl\"}], \"histogram\": [{\"marker\": {\"colorbar\": {\"outlinewidth\": 0, \"ticks\": \"\"}}, \"type\": \"histogram\"}], \"histogram2d\": [{\"colorbar\": {\"outlinewidth\": 0, \"ticks\": \"\"}, \"colorscale\": [[0.0, \"#0d0887\"], [0.1111111111111111, \"#46039f\"], [0.2222222222222222, \"#7201a8\"], [0.3333333333333333, \"#9c179e\"], [0.4444444444444444, \"#bd3786\"], [0.5555555555555556, \"#d8576b\"], [0.6666666666666666, \"#ed7953\"], [0.7777777777777778, \"#fb9f3a\"], [0.8888888888888888, \"#fdca26\"], [1.0, \"#f0f921\"]], \"type\": \"histogram2d\"}], \"histogram2dcontour\": [{\"colorbar\": {\"outlinewidth\": 0, \"ticks\": \"\"}, \"colorscale\": [[0.0, \"#0d0887\"], [0.1111111111111111, \"#46039f\"], [0.2222222222222222, \"#7201a8\"], [0.3333333333333333, \"#9c179e\"], [0.4444444444444444, \"#bd3786\"], [0.5555555555555556, \"#d8576b\"], [0.6666666666666666, \"#ed7953\"], [0.7777777777777778, \"#fb9f3a\"], [0.8888888888888888, \"#fdca26\"], [1.0, \"#f0f921\"]], \"type\": \"histogram2dcontour\"}], \"mesh3d\": [{\"colorbar\": {\"outlinewidth\": 0, \"ticks\": \"\"}, \"type\": \"mesh3d\"}], \"parcoords\": [{\"line\": {\"colorbar\": {\"outlinewidth\": 0, \"ticks\": \"\"}}, \"type\": \"parcoords\"}], \"pie\": [{\"automargin\": true, \"type\": \"pie\"}], \"scatter\": [{\"marker\": {\"colorbar\": {\"outlinewidth\": 0, \"ticks\": \"\"}}, \"type\": \"scatter\"}], \"scatter3d\": [{\"line\": {\"colorbar\": {\"outlinewidth\": 0, \"ticks\": \"\"}}, \"marker\": {\"colorbar\": {\"outlinewidth\": 0, \"ticks\": \"\"}}, \"type\": \"scatter3d\"}], \"scattercarpet\": [{\"marker\": {\"colorbar\": {\"outlinewidth\": 0, \"ticks\": \"\"}}, \"type\": \"scattercarpet\"}], \"scattergeo\": [{\"marker\": {\"colorbar\": {\"outlinewidth\": 0, \"ticks\": \"\"}}, \"type\": \"scattergeo\"}], \"scattergl\": [{\"marker\": {\"colorbar\": {\"outlinewidth\": 0, \"ticks\": \"\"}}, \"type\": \"scattergl\"}], \"scattermapbox\": [{\"marker\": {\"colorbar\": {\"outlinewidth\": 0, \"ticks\": \"\"}}, \"type\": \"scattermapbox\"}], \"scatterpolar\": [{\"marker\": {\"colorbar\": {\"outlinewidth\": 0, \"ticks\": \"\"}}, \"type\": \"scatterpolar\"}], \"scatterpolargl\": [{\"marker\": {\"colorbar\": {\"outlinewidth\": 0, \"ticks\": \"\"}}, \"type\": \"scatterpolargl\"}], \"scatterternary\": [{\"marker\": {\"colorbar\": {\"outlinewidth\": 0, \"ticks\": \"\"}}, \"type\": \"scatterternary\"}], \"surface\": [{\"colorbar\": {\"outlinewidth\": 0, \"ticks\": \"\"}, \"colorscale\": [[0.0, \"#0d0887\"], [0.1111111111111111, \"#46039f\"], [0.2222222222222222, \"#7201a8\"], [0.3333333333333333, \"#9c179e\"], [0.4444444444444444, \"#bd3786\"], [0.5555555555555556, \"#d8576b\"], [0.6666666666666666, \"#ed7953\"], [0.7777777777777778, \"#fb9f3a\"], [0.8888888888888888, \"#fdca26\"], [1.0, \"#f0f921\"]], \"type\": \"surface\"}], \"table\": [{\"cells\": {\"fill\": {\"color\": \"#EBF0F8\"}, \"line\": {\"color\": \"white\"}}, \"header\": {\"fill\": {\"color\": \"#C8D4E3\"}, \"line\": {\"color\": \"white\"}}, \"type\": \"table\"}]}, \"layout\": {\"annotationdefaults\": {\"arrowcolor\": \"#2a3f5f\", \"arrowhead\": 0, \"arrowwidth\": 1}, \"coloraxis\": {\"colorbar\": {\"outlinewidth\": 0, \"ticks\": \"\"}}, \"colorscale\": {\"diverging\": [[0, \"#8e0152\"], [0.1, \"#c51b7d\"], [0.2, \"#de77ae\"], [0.3, \"#f1b6da\"], [0.4, \"#fde0ef\"], [0.5, \"#f7f7f7\"], [0.6, \"#e6f5d0\"], [0.7, \"#b8e186\"], [0.8, \"#7fbc41\"], [0.9, \"#4d9221\"], [1, \"#276419\"]], \"sequential\": [[0.0, \"#0d0887\"], [0.1111111111111111, \"#46039f\"], [0.2222222222222222, \"#7201a8\"], [0.3333333333333333, \"#9c179e\"], [0.4444444444444444, \"#bd3786\"], [0.5555555555555556, \"#d8576b\"], [0.6666666666666666, \"#ed7953\"], [0.7777777777777778, \"#fb9f3a\"], [0.8888888888888888, \"#fdca26\"], [1.0, \"#f0f921\"]], \"sequentialminus\": [[0.0, \"#0d0887\"], [0.1111111111111111, \"#46039f\"], [0.2222222222222222, \"#7201a8\"], [0.3333333333333333, \"#9c179e\"], [0.4444444444444444, \"#bd3786\"], [0.5555555555555556, \"#d8576b\"], [0.6666666666666666, \"#ed7953\"], [0.7777777777777778, \"#fb9f3a\"], [0.8888888888888888, \"#fdca26\"], [1.0, \"#f0f921\"]]}, \"colorway\": [\"#636efa\", \"#EF553B\", \"#00cc96\", \"#ab63fa\", \"#FFA15A\", \"#19d3f3\", \"#FF6692\", \"#B6E880\", \"#FF97FF\", \"#FECB52\"], \"font\": {\"color\": \"#2a3f5f\"}, \"geo\": {\"bgcolor\": \"white\", \"lakecolor\": \"white\", \"landcolor\": \"#E5ECF6\", \"showlakes\": true, \"showland\": true, \"subunitcolor\": \"white\"}, \"hoverlabel\": {\"align\": \"left\"}, \"hovermode\": \"closest\", \"mapbox\": {\"style\": \"light\"}, \"paper_bgcolor\": \"white\", \"plot_bgcolor\": \"#E5ECF6\", \"polar\": {\"angularaxis\": {\"gridcolor\": \"white\", \"linecolor\": \"white\", \"ticks\": \"\"}, \"bgcolor\": \"#E5ECF6\", \"radialaxis\": {\"gridcolor\": \"white\", \"linecolor\": \"white\", \"ticks\": \"\"}}, \"scene\": {\"xaxis\": {\"backgroundcolor\": \"#E5ECF6\", \"gridcolor\": \"white\", \"gridwidth\": 2, \"linecolor\": \"white\", \"showbackground\": true, \"ticks\": \"\", \"zerolinecolor\": \"white\"}, \"yaxis\": {\"backgroundcolor\": \"#E5ECF6\", \"gridcolor\": \"white\", \"gridwidth\": 2, \"linecolor\": \"white\", \"showbackground\": true, \"ticks\": \"\", \"zerolinecolor\": \"white\"}, \"zaxis\": {\"backgroundcolor\": \"#E5ECF6\", \"gridcolor\": \"white\", \"gridwidth\": 2, \"linecolor\": \"white\", \"showbackground\": true, \"ticks\": \"\", \"zerolinecolor\": \"white\"}}, \"shapedefaults\": {\"line\": {\"color\": \"#2a3f5f\"}}, \"ternary\": {\"aaxis\": {\"gridcolor\": \"white\", \"linecolor\": \"white\", \"ticks\": \"\"}, \"baxis\": {\"gridcolor\": \"white\", \"linecolor\": \"white\", \"ticks\": \"\"}, \"bgcolor\": \"#E5ECF6\", \"caxis\": {\"gridcolor\": \"white\", \"linecolor\": \"white\", \"ticks\": \"\"}}, \"title\": {\"x\": 0.05}, \"xaxis\": {\"automargin\": true, \"gridcolor\": \"white\", \"linecolor\": \"white\", \"ticks\": \"\", \"title\": {\"standoff\": 15}, \"zerolinecolor\": \"white\", \"zerolinewidth\": 2}, \"yaxis\": {\"automargin\": true, \"gridcolor\": \"white\", \"linecolor\": \"white\", \"ticks\": \"\", \"title\": {\"standoff\": 15}, \"zerolinecolor\": \"white\", \"zerolinewidth\": 2}}}, \"title\": {\"font\": {\"color\": \"#4D5663\"}}, \"xaxis\": {\"gridcolor\": \"#E1E5ED\", \"showgrid\": true, \"tickfont\": {\"color\": \"#4D5663\"}, \"title\": {\"font\": {\"color\": \"#4D5663\"}, \"text\": \"\"}, \"zerolinecolor\": \"#E1E5ED\"}, \"yaxis\": {\"gridcolor\": \"#E1E5ED\", \"showgrid\": true, \"tickfont\": {\"color\": \"#4D5663\"}, \"title\": {\"font\": {\"color\": \"#4D5663\"}, \"text\": \"\"}, \"zerolinecolor\": \"#E1E5ED\"}},\n",
       "                        {\"showLink\": true, \"linkText\": \"Export to plot.ly\", \"plotlyServerURL\": \"https://plot.ly\", \"responsive\": true}\n",
       "                    ).then(function(){\n",
       "                            \n",
       "var gd = document.getElementById('cffb316c-862b-4fbd-ab40-0eb59980b361');\n",
       "var x = new MutationObserver(function (mutations, observer) {{\n",
       "        var display = window.getComputedStyle(gd).display;\n",
       "        if (!display || display === 'none') {{\n",
       "            console.log([gd, 'removed!']);\n",
       "            Plotly.purge(gd);\n",
       "            observer.disconnect();\n",
       "        }}\n",
       "}});\n",
       "\n",
       "// Listen for the removal of the full notebook cells\n",
       "var notebookContainer = gd.closest('#notebook-container');\n",
       "if (notebookContainer) {{\n",
       "    x.observe(notebookContainer, {childList: true});\n",
       "}}\n",
       "\n",
       "// Listen for the clearing of the current output cell\n",
       "var outputEl = gd.closest('.output');\n",
       "if (outputEl) {{\n",
       "    x.observe(outputEl, {childList: true});\n",
       "}}\n",
       "\n",
       "                        })\n",
       "                };\n",
       "                });\n",
       "            </script>\n",
       "        </div>"
      ]
     },
     "metadata": {},
     "output_type": "display_data"
    }
   ],
   "source": [
    "df2['target'].iplot(kind='hist')"
   ]
  },
  {
   "cell_type": "code",
   "execution_count": 18,
   "metadata": {
    "scrolled": false
   },
   "outputs": [
    {
     "data": {
      "text/plain": [
       "<AxesSubplot:>"
      ]
     },
     "execution_count": 18,
     "metadata": {},
     "output_type": "execute_result"
    },
    {
     "data": {
      "image/png": "[encoded data removed]",
      "text/plain": [
       "<Figure size 720x432 with 2 Axes>"
      ]
     },
     "metadata": {
      "needs_background": "light"
     },
     "output_type": "display_data"
    }
   ],
   "source": [
    "numerical_features = df2.select_dtypes(include=[np.number])\n",
    "k = 4\n",
    "correlation = numerical_features.corr(method='spearman')\n",
    "cols = correlation.nlargest(k, \"consumption\")[\"consumption\"].index\n",
    "cm = np.corrcoef(df2[cols].values.T)\n",
    "fig, axes = plt.subplots(figsize = (10, 6))\n",
    "\n",
    "sns.heatmap(\n",
    "    cm,\n",
    "    vmax=.8,\n",
    "    linewidths=0.01,\n",
    "    cmap=\"coolwarm\",\n",
    "    square=True,\n",
    "    annot=True,\n",
    "    linecolor=\"white\",\n",
    "    xticklabels=cols.values,\n",
    "    annot_kws = {\"size\": 12},\n",
    "    yticklabels=cols.values\n",
    ")"
   ]
  },
  {
   "cell_type": "markdown",
   "metadata": {
    "cellId": "6amok6u9g4tvytvqf52qc",
    "colab_type": "text",
    "id": "HlFvHH_vseQU"
   },
   "source": [
    "# Create BiLSTM, LSTM and GRU model\n",
    "The first function, create_model_bilstm, creates a BDLSM and gets the number of units (neurons) in hidden layers. The second function, *create_model*, gets two inputs; number of units in hidden layers and model name (LSTM or GRU).\n",
    "\n",
    "For the sake of simplicity, BiLSTM, LSTM and GRU have 2 hidden layers including 64 neurons and 1 neuron in the output layer.\n",
    "\n",
    "To make the LSTM and GRU networks robust to changes, the Dropout function is used. Dropout(0.2)  randomly drops 20% of units from the network."
   ]
  },
  {
   "cell_type": "code",
   "execution_count": 14,
   "metadata": {
    "cellId": "ckwscm4bnjv6dcaybz9mz5",
    "colab": {},
    "colab_type": "code",
    "id": "L2XCPc_rOgXH"
   },
   "outputs": [],
   "source": [
    "# Create BiLSTM model\n",
    "def create_model_bilstm(units):\n",
    "    model = Sequential()\n",
    "    # First layer of BiLSTM\n",
    "    model.add(Bidirectional(LSTM(units = units, return_sequences=True), \n",
    "                            input_shape=(trainX.shape[1], trainX.shape[2])))\n",
    "    # Second layer of BiLSTM\n",
    "    model.add(Bidirectional(LSTM(units = units)))\n",
    "    model.add(Dense(1))\n",
    "    #Compile model/\n",
    "    model.compile(loss='mse', optimizer='adam')\n",
    "    return model\n",
    "\n",
    "# Create LSTM or GRU model\n",
    "def create_model(units, m):\n",
    "    model = Sequential()\n",
    "    # First layer of LSTM\n",
    "    model.add(m (units = units, return_sequences = True, \n",
    "                 input_shape = [trainX.shape[1], trainX.shape[2]]))\n",
    "    model.add(Dropout(0.2)) \n",
    "    # Second layer of LSTM\n",
    "    model.add(m (units = units))                 \n",
    "    model.add(Dropout(0.2))\n",
    "    model.add(Dense(units = 1)) \n",
    "    #Compile model\n",
    "    model.compile(loss='mse', optimizer='adam')\n",
    "    return model\n",
    "\n",
    "# BiLSTM\n",
    "model_bilstm = create_model_bilstm(64)\n",
    "\n",
    "# GRU and LSTM \n",
    "model_gru = create_model(64, GRU)\n",
    "model_lstm = create_model(64, LSTM)"
   ]
  },
  {
   "cell_type": "markdown",
   "metadata": {
    "cellId": "123fdibu9y2uncedocuaq",
    "colab_type": "text",
    "id": "9w3rJjciiXhA"
   },
   "source": [
    "## Fit the models\n",
    "I train the model with train data for 100 epoch and batch_size = 32. I get the model to use 20% of train data as validation data. It is important to set shuffle = False because the order of the data matters in our project.\n",
    "\n",
    "To avoid overfitting, I set an early stop to stop training when \"val_loss\" has not improved after 10 epochs (patience = 10).\n"
   ]
  },
  {
   "cell_type": "code",
   "execution_count": 15,
   "metadata": {
    "cellId": "erjgb62wpofebourk6nzsm",
    "colab": {
     "base_uri": "https://localhost:8080/",
     "height": 1000
    },
    "colab_type": "code",
    "id": "JTTEpVWPOgXU",
    "outputId": "5ea5d5c4-8b43-47b8-e6bd-b69ab1a3568f"
   },
   "outputs": [],
   "source": [
    "# Fit BiLSTM, LSTM and GRU\n",
    "def fit_model(model):\n",
    "    early_stop = keras.callbacks.EarlyStopping(monitor = 'val_loss',\n",
    "                                               patience = 10)\n",
    "\n",
    "    # shuffle = False because the order of the data matters\n",
    "    history = model.fit(trainX, trainY, epochs = 100, validation_split = 0.2,\n",
    "                    batch_size = 32, shuffle = False, callbacks = [early_stop], verbose=0)\n",
    "    return history\n",
    "\n",
    "history_bilstm = fit_model(model_bilstm)\n",
    "history_lstm = fit_model(model_lstm)\n",
    "history_gru = fit_model(model_gru)"
   ]
  },
  {
   "cell_type": "markdown",
   "metadata": {
    "cellId": "vawmsoer7y9k43jh4vxsv",
    "colab_type": "text",
    "id": "2CzBn14ROgXX"
   },
   "source": [
    "### Plot train loss vs validation loss "
   ]
  },
  {
   "cell_type": "code",
   "execution_count": 16,
   "metadata": {
    "cellId": "h0ha40w4pvbnopwx3l0d",
    "colab": {
     "base_uri": "https://localhost:8080/",
     "height": 1000
    },
    "colab_type": "code",
    "id": "2kN7MWQdOgXX",
    "outputId": "68b0e51c-337d-4a79-c5c2-cca83305d27c"
   },
   "outputs": [
    {
     "data": {
      "image/png": "[encoded data removed]",
      "text/plain": [
       "<Figure size 720x432 with 1 Axes>"
      ]
     },
     "metadata": {
      "needs_background": "light"
     },
     "output_type": "display_data"
    },
    {
     "data": {
      "image/png": "[encoded data removed]",
      "text/plain": [
       "<Figure size 720x432 with 1 Axes>"
      ]
     },
     "metadata": {
      "needs_background": "light"
     },
     "output_type": "display_data"
    },
    {
     "data": {
      "image/png": "[encoded data removed]",
      "text/plain": [
       "<Figure size 720x432 with 1 Axes>"
      ]
     },
     "metadata": {
      "needs_background": "light"
     },
     "output_type": "display_data"
    }
   ],
   "source": [
    "def plot_loss (history, model_name):\n",
    "    plt.figure(figsize = (10, 6))\n",
    "    plt.plot(history.history['loss'])\n",
    "    plt.plot(history.history['val_loss'])\n",
    "    plt.title('Ошибки на выборках для ' + model_name)\n",
    "    plt.ylabel('Ошибка')\n",
    "    plt.xlabel('Эпоха обучения')\n",
    "    plt.legend(['Ошибка на выборке для обучения', 'Ошибка на тестовой выборке'], loc='upper right')\n",
    "\n",
    "plot_loss (history_bilstm, 'BiLSTM')\n",
    "plot_loss (history_lstm, 'LSTM')\n",
    "plot_loss (history_gru, 'GRU')"
   ]
  },
  {
   "cell_type": "markdown",
   "metadata": {
    "cellId": "u3lpxsrjqegurzchwcwcf",
    "colab_type": "text",
    "id": "Q5Dxoa9rOgXa"
   },
   "source": [
    "## Inverse target variable for train and test data\n",
    "After building the model, I have to transform the target variable back to original data space for train and test data using scaler.inverse_transform."
   ]
  },
  {
   "cell_type": "code",
   "execution_count": 17,
   "metadata": {
    "cellId": "j6pe4kzgl9kzb77re38j",
    "colab": {},
    "colab_type": "code",
    "id": "77AzEQfPOgXb"
   },
   "outputs": [],
   "source": [
    "# Note that I have to use scaler\n",
    "testY = scaler.inverse_transform(testY)\n",
    "trainY = scaler.inverse_transform(trainY)"
   ]
  },
  {
   "cell_type": "markdown",
   "metadata": {
    "cellId": "1d5duy51fqgj0upagj8qpf",
    "colab_type": "text",
    "id": "f7Brp2RGOgXd"
   },
   "source": [
    "# Make prediction using BiLSTM, LSTM and GRU\n",
    "Here I predict 'fact' using BiLSTM, LSTM and GRU models. Then, I plot true future vs prediction the three models."
   ]
  },
  {
   "cell_type": "code",
   "execution_count": 18,
   "metadata": {
    "cellId": "6p0aex1ypxpi1z3bgoo5y",
    "colab": {},
    "colab_type": "code",
    "id": "ty3L0-DrOgXe"
   },
   "outputs": [],
   "source": [
    "def prediction(model):\n",
    "    prediction = model.predict(testX)\n",
    "    prediction = scaler.inverse_transform(prediction)\n",
    "    return prediction\n",
    "\n",
    "prediction_bilstm = prediction(model_bilstm)\n",
    "prediction_lstm = prediction(model_lstm)\n",
    "prediction_gru = prediction(model_gru)"
   ]
  },
  {
   "cell_type": "markdown",
   "metadata": {
    "cellId": "c1g1diaoj4vccuud0ept8o",
    "colab_type": "text",
    "id": "-6yY5SlEOgXg"
   },
   "source": [
    "## Plot true future vs prediction"
   ]
  },
  {
   "cell_type": "code",
   "execution_count": 19,
   "metadata": {
    "cellId": "gpzrfwt2en6y5ctjt733wm",
    "colab": {
     "base_uri": "https://localhost:8080/",
     "height": 1000
    },
    "colab_type": "code",
    "id": "3aedSt40fV5Q",
    "outputId": "46c871d6-d027-495d-c60d-51f1b1d86f4a"
   },
   "outputs": [
    {
     "data": {
      "image/png": "[encoded data removed]",
      "text/plain": [
       "<Figure size 720x432 with 1 Axes>"
      ]
     },
     "metadata": {
      "needs_background": "light"
     },
     "output_type": "display_data"
    },
    {
     "data": {
      "image/png": "[encoded data removed]",
      "text/plain": [
       "<Figure size 720x432 with 1 Axes>"
      ]
     },
     "metadata": {
      "needs_background": "light"
     },
     "output_type": "display_data"
    },
    {
     "data": {
      "image/png": "[encoded data removed]",
      "text/plain": [
       "<Figure size 720x432 with 1 Axes>"
      ]
     },
     "metadata": {
      "needs_background": "light"
     },
     "output_type": "display_data"
    }
   ],
   "source": [
    "def plot_future(prediction, model_name, testY):\n",
    "    \n",
    "    plt.figure(figsize=(10, 6))\n",
    "    \n",
    "    range_future = len(prediction)\n",
    "\n",
    "    plt.plot(np.arange(range_future), np.array(testY), label='Исторические данные')\n",
    "    plt.plot(np.arange(range_future), np.array(prediction),label='Прогноз')\n",
    "\n",
    "    plt.title('Прогноз ' + model_name)\n",
    "    plt.legend(loc='upper left')\n",
    "    plt.xlabel('Время (неделя)')\n",
    "    plt.ylabel('Еженедельное потребление нефти (т/нед)')    \n",
    "    plt.savefig(f'Прогноз для ({model_name})')\n",
    "    \n",
    "plot_future(prediction_bilstm, 'BiLSTM', testY)\n",
    "plot_future(prediction_lstm, 'LSTM', testY)\n",
    "plot_future(prediction_gru, 'GRU', testY)"
   ]
  },
  {
   "cell_type": "markdown",
   "metadata": {
    "cellId": "4g0ofbpe6iqn9iw38qmlw",
    "colab_type": "text",
    "id": "tAsfHLuFOgXk"
   },
   "source": [
    "## Calculate RMSE and MAE"
   ]
  },
  {
   "cell_type": "code",
   "execution_count": 20,
   "metadata": {
    "cellId": "uwfzd7j80ehclq5uth5k3",
    "colab": {
     "base_uri": "https://localhost:8080/",
     "height": 225
    },
    "colab_type": "code",
    "id": "BPaU_KAPOgXk",
    "outputId": "4f41f81e-bb21-4859-9c95-3e0c3c9f99f0"
   },
   "outputs": [
    {
     "name": "stdout",
     "output_type": "stream",
     "text": [
      "Bidirectional LSTM:\n",
      "Mean Absolute Error: 37349.2381\n",
      "Root Mean Square Error: 44580.6491\n",
      "\n",
      "LSTM:\n",
      "Mean Absolute Error: 44131.1235\n",
      "Root Mean Square Error: 51723.0854\n",
      "\n",
      "GRU:\n",
      "Mean Absolute Error: 35123.7637\n",
      "Root Mean Square Error: 42687.8681\n",
      "\n"
     ]
    }
   ],
   "source": [
    "# Define a function to calculate MAE and RMSE\n",
    "def evaluate_prediction(predictions, actual, model_name):\n",
    "    errors = predictions - actual\n",
    "    mse = np.square(errors).mean()\n",
    "    rmse = np.sqrt(mse)\n",
    "    mae = np.abs(errors).mean()\n",
    "\n",
    "    print(model_name + ':')\n",
    "    print('Mean Absolute Error: {:.4f}'.format(mae))\n",
    "    print('Root Mean Square Error: {:.4f}'.format(rmse))\n",
    "    print('')\n",
    "\n",
    "evaluate_prediction(prediction_bilstm, testY, 'Bidirectional LSTM')\n",
    "evaluate_prediction(prediction_lstm, testY, 'LSTM')\n",
    "evaluate_prediction(prediction_gru, testY, 'GRU')"
   ]
  },
  {
   "cell_type": "markdown",
   "metadata": {
    "cellId": "b1xrmxm6w1biame8r41uer",
    "colab_type": "text",
    "id": "NQ9sq_CQzS5e"
   },
   "source": [
    "Results show that the **GRU** has the best performance compared to LSTM and Bidirectional LSTM. So I use GRU model to forecast oil consumption for the next day. "
   ]
  },
  {
   "cell_type": "code",
   "execution_count": null,
   "metadata": {},
   "outputs": [],
   "source": []
  }
 ],
 "metadata": {
  "accelerator": "GPU",
  "colab": {
   "collapsed_sections": [],
   "name": "LSTM&GRU&BiLSTM.ipynb",
   "provenance": []
  },
  "kernelspec": {
   "display_name": "Python 3",
   "language": "python",
   "name": "python3"
  },
  "language_info": {
   "codemirror_mode": {
    "name": "ipython",
    "version": 3
   },
   "file_extension": ".py",
   "mimetype": "text/x-python",
   "name": "python",
   "nbconvert_exporter": "python",
   "pygments_lexer": "ipython3",
   "version": "3.7.6"
  },
  "notebookId": "b2760bee-0b16-441b-bb4a-1dec542dd848",
  "toc": {
   "base_numbering": 1,
   "nav_menu": {},
   "number_sections": true,
   "sideBar": true,
   "skip_h1_title": false,
   "title_cell": "Table of Contents",
   "title_sidebar": "Contents",
   "toc_cell": true,
   "toc_position": {
    "height": "631.333px",
    "left": "225px",
    "top": "144px",
    "width": "278.766px"
   },
   "toc_section_display": true,
   "toc_window_display": true
  }
 },
 "nbformat": 4,
 "nbformat_minor": 4
}
